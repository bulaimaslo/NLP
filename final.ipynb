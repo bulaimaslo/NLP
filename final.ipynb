{
 "metadata": {
  "language_info": {
   "codemirror_mode": {
    "name": "ipython",
    "version": 3
   },
   "file_extension": ".py",
   "mimetype": "text/x-python",
   "name": "python",
   "nbconvert_exporter": "python",
   "pygments_lexer": "ipython3",
   "version": "3.9.5"
  },
  "orig_nbformat": 4,
  "kernelspec": {
   "name": "python3",
   "display_name": "Python 3.9.5 64-bit"
  },
  "interpreter": {
   "hash": "705918e780edd3c3d13d79c4436a820177c92fc972bec27704620ade7baffbb8"
  }
 },
 "nbformat": 4,
 "nbformat_minor": 2,
 "cells": [
  {
   "source": [
    "Reuters-21578, Distribution 1.0\n",
    "\n",
    "Comparison of classic text representation methods\n",
    "(bag-of-words) with vector\n",
    "representations of words obtained from deep\n",
    "models (word embeddings) in the task of\n",
    "categorizing texts."
   ],
   "cell_type": "markdown",
   "metadata": {}
  },
  {
   "cell_type": "code",
   "execution_count": 29,
   "metadata": {},
   "outputs": [],
   "source": [
    "#importy\n",
    "import nltk\n",
    "from nltk.corpus import reuters\n",
    "from sklearn.feature_extraction.text import TfidfVectorizer\n",
    "from sklearn.feature_extraction.text import CountVectorizer\n",
    "from sklearn.naive_bayes import MultinomialNB\n",
    "from sklearn.pipeline import make_pipeline\n",
    "import re\n",
    "\n",
    "\n",
    "\n",
    "from sklearn.metrics import confusion_matrix, accuracy_score"
   ]
  },
  {
   "source": [
    "training_ids = [doc_id for doc_id in reuters.fileids() if doc_id.startswith('training')]\n",
    "\n",
    "cat_counts = dict()\n",
    "\n",
    "for id in training_ids:\n",
    "    for i in range(len(reuters.categories(id))):\n",
    "        category = reuters.categories(id)[i]\n",
    "        cat_counts[category] = cat_counts.get(category, 0) + 1\n",
    "\n",
    "sorted(cat_counts.items(), key=lambda x: x[1], reverse=True)[:30]\n",
    "\n",
    "categories = [item[0] for item in sorted(cat_counts.items(), key=lambda x: x[1], reverse=True)[:70]]\n",
    "\n",
    "\n"
   ],
   "cell_type": "code",
   "metadata": {},
   "execution_count": 31,
   "outputs": []
  },
  {
   "cell_type": "code",
   "execution_count": 32,
   "metadata": {},
   "outputs": [],
   "source": [
    "corpus = {}\n",
    "tokens = []\n",
    "DF = {}\n",
    "term_frequency = []\n",
    "ids = []\n",
    "doc_lengths = []\n",
    "\n",
    "DOCUMENTS = 200\n",
    "\n",
    "#limited due to memory consumption\n",
    "training_ids = [doc_id for doc_id in reuters.fileids() if doc_id.startswith('training')][:DOCUMENTS]\n",
    "\n",
    "for i, id in enumerate(training_ids):\n",
    "    document = reuters.raw(id)\n",
    "\n",
    "    vocab = tokenize(document)\n",
    "    tokens += [vocab]\n",
    "\n",
    "    for w in vocab:\n",
    "        try:\n",
    "            DF[w].add(i)\n",
    "        except:\n",
    "            DF[w] = {i}\n",
    "\n",
    "    #corpus[f'doc{i}'] = dict((tok, 1) for tok in vocab)\n",
    "    corpus[id] = dict((tok, 1) for tok in vocab)\n",
    "    ids.append(id)\n",
    "    doc_lengths.append(len(vocab))\n",
    "\n",
    "for i in DF:\n",
    "    DF[i] = len(DF[i])\n",
    "\n",
    "for token in vocab:\n",
    "    term_frequency.append(DF[token])\n",
    "\n",
    "\n",
    "lexicon = sorted(set(sum(tokens, [])))"
   ]
  },
  {
   "cell_type": "code",
   "execution_count": 33,
   "metadata": {
    "tags": []
   },
   "outputs": [],
   "source": [
    "training_ids2 = [id for id in training_ids if reuters.categories(id)[0] in categories]\n",
    "\n",
    "test_ids = [id for id in reuters.fileids() if id.startswith('test') and reuters.categories(id)[0] in categories]\n",
    "\n",
    "categories = {category: id for id, category in enumerate(reuters.categories())}\n"
   ]
  },
  {
   "cell_type": "code",
   "execution_count": null,
   "metadata": {},
   "outputs": [],
   "source": [
    "### BOW\n",
    "\n",
    "sentence_bow = {}\n",
    "for token in document.split():\n",
    "    sentence_bow[token] = 1\n",
    "\n",
    "#sorted(sentence_bow.items())\n",
    "\n",
    "bag_of_words = Counter(token_sequence)\n",
    "sorted(bag_of_words.items(), key=lambda x: x[1], reverse=True)\n",
    "bag_of_words.most_common(4)"
   ]
  },
  {
   "cell_type": "code",
   "execution_count": 70,
   "metadata": {},
   "outputs": [],
   "source": [
    "train_data = []\n",
    "test_data = []\n",
    "\n",
    "for id in training_ids2:\n",
    "    train_data.append(clean_text(reuters.raw(id)))\n",
    "\n",
    "for id in test_ids:\n",
    "    test_data.append(clean_text(reuters.raw(id)))\n",
    "\n",
    "train_target = [categories[reuters.categories(id)[0]] for id in training_ids2]\n",
    "test_target = [categories[reuters.categories(id)[0]] for id in test_ids]"
   ]
  },
  {
   "cell_type": "code",
   "execution_count": null,
   "metadata": {},
   "outputs": [],
   "source": [
    "zero_vector = OrderedDict((token, 0) for token in lexicon)\n",
    "\n",
    "# Vectorization\n",
    "\n",
    "doc_vectors = []\n",
    "doc_vectors2 = []\n",
    "\n",
    "for i, id in enumerate(training_ids):\n",
    "    document = reuters.raw(id)\n",
    "    vec = copy.copy(zero_vector)\n",
    "\n",
    "    vocab = re_pattern.split(document.lower())\n",
    "    vocab = [token for token in vocab if token not in ',.!?\\'\\\"-\\t\\n <>;']\n",
    "    vocab = [token for token in vocab if token not in stop_words]\n",
    "\n",
    "    token_counts = Counter(vocab)\n",
    "    for key, value in token_counts.items():\n",
    "        vec[key] = value #/ len(lexicon)\n",
    "        doc_vectors.append(vec)\n",
    "\n",
    "    doc_vectors2.append(list(doc_vectors[i].items()))\n"
   ]
  },
  {
   "cell_type": "code",
   "execution_count": null,
   "metadata": {},
   "outputs": [],
   "source": [
    "tf_idf = {}\n",
    "\n",
    "for doc in corpus:\n",
    "    for token in corpus[doc]:\n",
    "        tf = corpus[doc][token] / len(corpus[doc])\n",
    "        df = token_counts[token] / N\n",
    "        idf = np.log(N / (df + 1))  #add 1 to avoid possibility of dividing by zero if there's no instance of the word in lexicon\n",
    "        tf_idf[doc, token] = tf*idf\n",
    "\n",
    "#tf_idf['doc0', 'review']"
   ]
  },
  {
   "cell_type": "code",
   "execution_count": 71,
   "metadata": {},
   "outputs": [],
   "source": [
    "# Build the model with naive bayes\n",
    "model_tfidf = make_pipeline(TfidfVectorizer(), MultinomialNB())\n",
    "model_count = make_pipeline(CountVectorizer(), MultinomialNB())\n",
    "# Train the model using the training data\n",
    "model_tfidf.fit(train_data, train_target)\n",
    "# Predict the categories of the test data\n",
    "predicted_categories = model_tfidf.predict(test_data)"
   ]
  },
  {
   "cell_type": "code",
   "execution_count": null,
   "metadata": {},
   "outputs": [],
   "source": [
    "def matching_score(k, query):\n",
    "    preprocessed_query = tokenize(query)\n",
    "    tokens = tokenize(str(preprocessed_query))\n",
    "    \n",
    "    query_weights = {}\n",
    "\n",
    "    for key in tf_idf:\n",
    "        \n",
    "        if key[1] in tokens:\n",
    "            try:\n",
    "                query_weights[key[0]] += tf_idf[key]\n",
    "            except:\n",
    "                query_weights[key[0]] = tf_idf[key]\n",
    "    \n",
    "    query_weights = sorted(query_weights.items(), key=lambda x: x[1], reverse=True)\n",
    "    \n",
    "    l = []\n",
    "    \n",
    "    for i in query_weights[:k]:\n",
    "        l.append(i[0])\n",
    "    \n",
    "    print(l)"
   ]
  },
  {
   "cell_type": "code",
   "execution_count": null,
   "metadata": {},
   "outputs": [],
   "source": [
    "matching_score2(5, reuters.raw('training/9865'))\n",
    "reuters.categories('training/9865')\n",
    "reuters.categories('training/10120')\n"
   ]
  },
  {
   "source": [
    "Ranking by cosine similarity"
   ],
   "cell_type": "markdown",
   "metadata": {}
  },
  {
   "cell_type": "code",
   "execution_count": null,
   "metadata": {},
   "outputs": [],
   "source": [
    "def cosine_sim(a, b):\n",
    "    cos_sim = np.dot(a, b)/(np.linalg.norm(a)*np.linalg.norm(b))\n",
    "    return cos_sim"
   ]
  },
  {
   "cell_type": "code",
   "execution_count": null,
   "metadata": {},
   "outputs": [],
   "source": [
    "def doc_freq(word):\n",
    "    c = 0\n",
    "    try:\n",
    "        c = DF[word]\n",
    "    except:\n",
    "        pass\n",
    "    return c"
   ]
  },
  {
   "cell_type": "code",
   "execution_count": null,
   "metadata": {},
   "outputs": [],
   "source": [
    "def gen_vector(tokens):\n",
    "\n",
    "    Q = np.zeros((len(lexicon)))\n",
    "    \n",
    "    counter = Counter(tokens)\n",
    "    words_count = len(tokens)\n",
    "\n",
    "    query_weights = {}\n",
    "    \n",
    "    for token in np.unique(tokens):\n",
    "        \n",
    "        tf = counter[token]/words_count\n",
    "        df = doc_freq(token)\n",
    "        idf = np.log((N+1)/(df+1))\n",
    "\n",
    "        try:\n",
    "            ind = lexicon.index(token)\n",
    "            Q[ind] = tf*idf\n",
    "        except:\n",
    "            pass\n",
    "    return Q"
   ]
  },
  {
   "cell_type": "code",
   "execution_count": null,
   "metadata": {},
   "outputs": [],
   "source": [
    "def cosine_similarity(k, query):\n",
    "    preprocessed_query = tokenize(query)\n",
    "    tokens = tokenize(str(preprocessed_query))\n",
    "       \n",
    "    d_cosines = []\n",
    "\n",
    "    query_vector = gen_vector(tokens)\n",
    "    \n",
    "    for d in D:\n",
    "        d_cosines.append(cosine_sim(query_vector, d))\n",
    "        \n",
    "    out = np.array(d_cosines).argsort()[-k:][::-1]\n",
    "\n",
    "    #for i in out:\n",
    "        #print(i, dataset[i][0])\n",
    "    return out"
   ]
  },
  {
   "cell_type": "code",
   "execution_count": 72,
   "metadata": {},
   "outputs": [],
   "source": [
    "mat = confusion_matrix(test_target, predicted_categories)\n"
   ]
  },
  {
   "cell_type": "code",
   "execution_count": 69,
   "metadata": {},
   "outputs": [
    {
     "output_type": "stream",
     "name": "stdout",
     "text": [
      "The accuracy is 0.6205059920106525\n"
     ]
    }
   ],
   "source": [
    "print(\"The accuracy is {}\".format(accuracy_score(test_target, predicted_categories)))"
   ]
  },
  {
   "cell_type": "code",
   "execution_count": 74,
   "metadata": {},
   "outputs": [
    {
     "output_type": "execute_result",
     "data": {
      "text/plain": [
       "0.6344873501997337"
      ]
     },
     "metadata": {},
     "execution_count": 74
    }
   ],
   "source": [
    "predicted = sum([test_target[i] == predicted_categories[i] for i in range(len(test_target))])\n",
    "\n",
    "all = len(test_target)\n",
    "\n",
    "predicted/all"
   ]
  },
  {
   "cell_type": "code",
   "execution_count": 39,
   "metadata": {},
   "outputs": [],
   "source": [
    "import gensim\n",
    "from gensim.models import Word2Vec\n",
    "from nltk.tokenize import sent_tokenize, word_tokenize\n",
    "from gensim.models import Phrases\n",
    "import tensorflow as tf\n",
    "\n",
    "def tokenize(doc):\n",
    "    re_pattern = re.compile(r'([\\s\\d.,!?;\\\"\\'-+])+')\n",
    "    #nltk.download('stopwords') \n",
    "    stop_words = nltk.corpus.stopwords.words('english')\n",
    "    stop_words.append('&lt')\n",
    "\n",
    "    tokens = re_pattern.split(doc.lower())\n",
    "    tokens = [token for token in tokens if token not in ',.!?\\'\\\"-\\t\\n ;']\n",
    "    tokens = [token for token in tokens if token not in stop_words]\n",
    "\n",
    "    return tokens\n",
    "\n",
    "def clean_text(\n",
    "    string: str, \n",
    "    punctuations=r'''!()-[]{};:'\"\\,<>./?@#$%^&*_~''',\n",
    "    stop_words=['the', 'a', 'and', 'is', 'be', 'will']) -> str:\n",
    "    \"\"\"\n",
    "    A method to clean text \n",
    "    \"\"\"\n",
    "\n",
    "    # Removing the punctuations\n",
    "    for x in string.lower(): \n",
    "        if x in punctuations: \n",
    "            string = string.replace(x, \"\") \n",
    "\n",
    "    # Converting the text to lower\n",
    "    string = string.lower()\n",
    "\n",
    "    # Removing stop words\n",
    "    string = ' '.join([word for word in string.split() if word not in stop_words])\n",
    "\n",
    "    # Cleaning the whitespaces\n",
    "    string = re.sub(r'\\s+', ' ', string).strip()\n",
    "\n",
    "    stemmer = PorterStemmer()\n",
    "    ' '.join([stemmer.stem(w).strip(\"'\") for w in token_sequence])\n",
    "\n",
    "    return string   "
   ]
  },
  {
   "cell_type": "code",
   "execution_count": 46,
   "metadata": {},
   "outputs": [],
   "source": [
    "corpus = []\n",
    "\n",
    "for id in training_ids:\n",
    "    corpus.append(tokenize(reuters.raw(id)))"
   ]
  },
  {
   "cell_type": "code",
   "execution_count": 42,
   "metadata": {},
   "outputs": [],
   "source": [
    "model1 = gensim.models.Word2Vec(corpus, min_count = 1, window = 5)"
   ]
  },
  {
   "cell_type": "code",
   "execution_count": 62,
   "metadata": {},
   "outputs": [],
   "source": []
  },
  {
   "cell_type": "code",
   "execution_count": null,
   "metadata": {},
   "outputs": [],
   "source": []
  }
 ]
}