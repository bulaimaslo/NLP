{
 "metadata": {
  "language_info": {
   "codemirror_mode": {
    "name": "ipython",
    "version": 3
   },
   "file_extension": ".py",
   "mimetype": "text/x-python",
   "name": "python",
   "nbconvert_exporter": "python",
   "pygments_lexer": "ipython3",
   "version": "3.9.5"
  },
  "orig_nbformat": 4,
  "kernelspec": {
   "name": "python3",
   "display_name": "Python 3.9.5 64-bit"
  },
  "interpreter": {
   "hash": "705918e780edd3c3d13d79c4436a820177c92fc972bec27704620ade7baffbb8"
  }
 },
 "nbformat": 4,
 "nbformat_minor": 2,
 "cells": [
  {
   "source": [
    "Comparison of classic text representation methods\n",
    "(bag-of-words) with vector\n",
    "representations of words obtained from deep\n",
    "models (word embeddings) in the task of\n",
    "categorizing texts.\n",
    "\n",
    "\n",
    "Dataset: Reuters-21578, Distribution 1.0"
   ],
   "cell_type": "markdown",
   "metadata": {}
  },
  {
   "cell_type": "code",
   "execution_count": 163,
   "metadata": {},
   "outputs": [],
   "source": [
    "import nltk\n",
    "from nltk.corpus import reuters\n",
    "from nltk.stem.porter import PorterStemmer\n",
    "from sklearn.feature_extraction.text import TfidfVectorizer\n",
    "from sklearn.feature_extraction.text import CountVectorizer\n",
    "from sklearn.naive_bayes import MultinomialNB\n",
    "from sklearn.pipeline import make_pipeline\n",
    "import numpy as np\n",
    "import re\n",
    "from collections import Counter"
   ]
  },
  {
   "source": [
    "Since some of the categories raraly appears let's use most frequent ones."
   ],
   "cell_type": "markdown",
   "metadata": {}
  },
  {
   "source": [
    "training_ids = [doc_id for doc_id in reuters.fileids() if doc_id.startswith('training')]\n",
    "\n",
    "cat_counts = dict()\n",
    "\n",
    "for id in training_ids:\n",
    "    for i in range(len(reuters.categories(id))):\n",
    "        category = reuters.categories(id)[i]\n",
    "        cat_counts[category] = cat_counts.get(category, 0) + 1\n",
    "\n",
    "num_categories = 30\n",
    "\n",
    "cat_sorted = sorted(cat_counts.items(), key=lambda x: x[1], reverse=True)[:num_categories]\n",
    "categories = [item[0] for item in cat_sorted]"
   ],
   "cell_type": "code",
   "metadata": {},
   "execution_count": 115,
   "outputs": []
  },
  {
   "cell_type": "code",
   "execution_count": 120,
   "metadata": {
    "tags": []
   },
   "outputs": [],
   "source": [
    "training_ids = [id for id in training_ids if reuters.categories(id)[0] in categories]\n",
    "\n",
    "test_ids = [id for id in reuters.fileids() if id.startswith('test') and reuters.categories(id)[0] in categories]\n",
    "\n",
    "categories = {category: id for id, category in enumerate(reuters.categories())}\n"
   ]
  },
  {
   "cell_type": "code",
   "execution_count": 160,
   "metadata": {},
   "outputs": [],
   "source": [
    "def clean_text(string):\n",
    "    \"\"\"\n",
    "    A function that normalizes given text in string format\n",
    "    \"\"\"\n",
    "    punctuations=r'''.,!?;\\\"\\'-+(){}[]\"\\,<>./?@$&''',\n",
    "    stop_words=nltk.corpus.stopwords.words('english')\n",
    "\n",
    "    # Removing the punctuations\n",
    "    for x in string.lower(): \n",
    "        if x in punctuations: \n",
    "            string = string.replace(x, \"\") \n",
    "\n",
    "    # Converting the text to lower\n",
    "    string = string.lower()\n",
    "\n",
    "    # Removing stop words\n",
    "    string = ' '.join([word for word in string.split() if word not in stop_words])\n",
    "\n",
    "    # Cleaning the whitespaces\n",
    "    string = re.sub(r'\\s+', ' ', string).strip()\n",
    "\n",
    "    return string  "
   ]
  },
  {
   "cell_type": "code",
   "execution_count": 158,
   "metadata": {},
   "outputs": [],
   "source": [
    "def tokenize(doc):\n",
    "    \"\"\"\n",
    "    A function that normalizes and divides given text\n",
    "    into words.\n",
    "    \"\"\"\n",
    "    re_pattern = re.compile(r'([\\s\\d.,!?;\\\"\\'-+])+')\n",
    "    stop_words = nltk.corpus.stopwords.words('english')\n",
    "\n",
    "    tokens = re_pattern.split(doc.lower())\n",
    "    tokens = [token for token in tokens if token not in ',.!?\\'\\\"-\\t\\n ;']\n",
    "    tokens = [token for token in tokens if token not in stop_words]\n",
    "\n",
    "    return tokens"
   ]
  },
  {
   "cell_type": "code",
   "execution_count": 154,
   "metadata": {},
   "outputs": [],
   "source": [
    "corpus = {}\n",
    "tokens = []\n",
    "DF = {}\n",
    "term_frequency = []\n",
    "ids = [] #\n",
    "doc_lengths = []\n",
    "\n",
    "for i, id in enumerate(training_ids):\n",
    "    document = reuters.raw(id)\n",
    "\n",
    "    vocab = tokenize(document)\n",
    "    tokens += [vocab]\n",
    "\n",
    "    for w in vocab:\n",
    "        try:\n",
    "            DF[w].add(i)\n",
    "        except:\n",
    "            DF[w] = {i}\n",
    "\n",
    "    corpus[id] = dict((tok, 1) for tok in vocab)\n",
    "    ids.append(id)\n",
    "    doc_lengths.append(len(vocab))\n",
    "\n",
    "for i in DF:\n",
    "    DF[i] = len(DF[i])\n",
    "\n",
    "for token in vocab:\n",
    "    term_frequency.append(DF[token])\n",
    "\n",
    "stop_words = nltk.corpus.stopwords.words('english')\n",
    "words = reuters.words()\n",
    "words = [token.lower() for token in words if token not in ',&><.!/?\\'\\\"-\\t\\n ;']\n",
    "words = [token for token in words if token not in stop_words]\n",
    "\n",
    "N = len(words)\n",
    "token_counts = Counter(words)\n",
    "# initialize lexicon of all words\n",
    "lexicon = sorted(set(sum(tokens, [])))"
   ]
  },
  {
   "cell_type": "code",
   "execution_count": 161,
   "metadata": {},
   "outputs": [],
   "source": [
    "train_data = []\n",
    "test_data = []\n",
    "\n",
    "for id in training_ids:\n",
    "    train_data.append(clean_text(reuters.raw(id)))\n",
    "\n",
    "for id in test_ids:\n",
    "    test_data.append(clean_text(reuters.raw(id)))\n",
    "\n",
    "train_target = [categories[reuters.categories(id)[0]] for id in training_ids]\n",
    "test_target = [categories[reuters.categories(id)[0]] for id in test_ids]"
   ]
  },
  {
   "source": [
    "Vectorization by frequency\n",
    "\n",
    "Representing information about frequency of every word in lexicon every document."
   ],
   "cell_type": "markdown",
   "metadata": {}
  },
  {
   "cell_type": "code",
   "execution_count": null,
   "metadata": {},
   "outputs": [],
   "source": [
    "#Initialize zero vector, starting point for every document \n",
    "zero_vector = OrderedDict((token, 0) for token in lexicon)\n",
    "\n",
    "doc_vectors = []\n",
    "doc_vectors2 = []\n",
    "\n",
    "for i, id in enumerate(training_ids):\n",
    "    document = reuters.raw(id)\n",
    "    vec = copy.copy(zero_vector)\n",
    "\n",
    "    vocab = re_pattern.split(document.lower())\n",
    "    vocab = [token for token in vocab if token not in ',.!?\\'\\\"-\\t\\n <>;']\n",
    "    vocab = [token for token in vocab if token not in stop_words]\n",
    "\n",
    "    token_counts = Counter(vocab)\n",
    "    for key, value in token_counts.items():\n",
    "        vec[key] = value #/ len(lexicon)\n",
    "        doc_vectors.append(vec)\n",
    "\n",
    "    doc_vectors2.append(list(doc_vectors[i].items()))\n"
   ]
  },
  {
   "source": [
    "TF-IDF vectors\n",
    "\n",
    "TF-IDF = Term Frequency (TF) * Inverse Document Frequency (IDF)"
   ],
   "cell_type": "markdown",
   "metadata": {}
  },
  {
   "cell_type": "code",
   "execution_count": 170,
   "metadata": {},
   "outputs": [
    {
     "output_type": "execute_result",
     "data": {
      "text/plain": [
       "0.15390657562176824"
      ]
     },
     "metadata": {},
     "execution_count": 170
    }
   ],
   "source": [
    "\n",
    "tf_idf = {}\n",
    "\n",
    "for doc in corpus:\n",
    "    for token in corpus[doc]:\n",
    "        tf = corpus[doc][token] / len(corpus[doc])\n",
    "        df = token_counts[token] / N\n",
    "        idf = np.log(N / (df + 1))  #add 1 to avoid possibility of dividing by zero if there's no instance of the word in lexicon\n",
    "        tf_idf[doc, token] = tf*idf\n",
    "\n",
    "tf_idf['training/10', 'computer']"
   ]
  },
  {
   "cell_type": "code",
   "execution_count": 185,
   "metadata": {},
   "outputs": [],
   "source": [
    "def matching_score(k, query):\n",
    "    preprocessed_query = tokenize(query)\n",
    "    tokens = tokenize(str(preprocessed_query))\n",
    "    \n",
    "    query_weights = {}\n",
    "\n",
    "    for key in tf_idf:\n",
    "        \n",
    "        if key[1] in tokens:\n",
    "            try:\n",
    "                query_weights[key[0]] += tf_idf[key]\n",
    "            except:\n",
    "                query_weights[key[0]] = tf_idf[key]\n",
    "    \n",
    "    query_weights = sorted(query_weights.items(), key=lambda x: x[1], reverse=True)\n",
    "\n",
    "    l = []\n",
    "    for i in query_weights[:k]:\n",
    "        l.append(i[0])\n",
    "    \n",
    "    return l"
   ]
  },
  {
   "cell_type": "code",
   "execution_count": 187,
   "metadata": {},
   "outputs": [
    {
     "output_type": "stream",
     "name": "stdout",
     "text": [
      "['training/12500', 'training/7215', 'training/9304', 'training/2169', 'training/12583', 'training/2183', 'training/4278', 'training/1396', 'training/6898', 'training/1057']\n['barley', 'corn', 'grain', 'wheat']\n['corn', 'grain', 'wheat']\n"
     ]
    }
   ],
   "source": [
    "#Show documents most simylar to the given one\n",
    "print(matching_score(10, reuters.raw('training/9865')))\n",
    "print(reuters.categories('training/9865'))\n",
    "print(reuters.categories('training/12500'))\n"
   ]
  },
  {
   "source": [
    "Ranking by cosine similarity"
   ],
   "cell_type": "markdown",
   "metadata": {}
  },
  {
   "cell_type": "code",
   "execution_count": 189,
   "metadata": {},
   "outputs": [],
   "source": [
    "def cosine_sim(a, b):\n",
    "    cos_sim = np.dot(a, b)/(np.linalg.norm(a)*np.linalg.norm(b))\n",
    "    return cos_sim"
   ]
  },
  {
   "cell_type": "code",
   "execution_count": 190,
   "metadata": {},
   "outputs": [],
   "source": [
    "def doc_freq(word):\n",
    "    c = 0\n",
    "    try:\n",
    "        c = DF[word]\n",
    "    except:\n",
    "        pass\n",
    "    return c"
   ]
  },
  {
   "cell_type": "code",
   "execution_count": 191,
   "metadata": {},
   "outputs": [],
   "source": [
    "def gen_vector(tokens):\n",
    "\n",
    "    Q = np.zeros((len(lexicon)))\n",
    "    \n",
    "    counter = Counter(tokens)\n",
    "    words_count = len(tokens)\n",
    "\n",
    "    query_weights = {}\n",
    "    \n",
    "    for token in np.unique(tokens):\n",
    "        \n",
    "        tf = counter[token]/words_count\n",
    "        df = doc_freq(token)\n",
    "        idf = np.log((N+1)/(df+1))\n",
    "\n",
    "        try:\n",
    "            ind = lexicon.index(token)\n",
    "            Q[ind] = tf*idf\n",
    "        except:\n",
    "            pass\n",
    "    return Q"
   ]
  },
  {
   "cell_type": "code",
   "execution_count": 192,
   "metadata": {},
   "outputs": [],
   "source": [
    "def cosine_similarity(k, query):\n",
    "    preprocessed_query = tokenize(query)\n",
    "    tokens = tokenize(str(preprocessed_query))\n",
    "       \n",
    "    d_cosines = []\n",
    "\n",
    "    query_vector = gen_vector(tokens)\n",
    "    \n",
    "    for d in D:\n",
    "        d_cosines.append(cosine_sim(query_vector, d))\n",
    "        \n",
    "    out = np.array(d_cosines).argsort()[-k:][::-1]\n",
    "\n",
    "    return out"
   ]
  },
  {
   "cell_type": "code",
   "execution_count": 194,
   "metadata": {},
   "outputs": [],
   "source": [
    "# Build the model with naive bayes\n",
    "model_tfidf = make_pipeline(TfidfVectorizer(), MultinomialNB())\n",
    "model_count = make_pipeline(CountVectorizer(), MultinomialNB())\n",
    "# Train the model using the training data\n",
    "model_tfidf.fit(train_data, train_target)\n",
    "# Predict the categories of the test data\n",
    "predicted_categories = model_tfidf.predict(test_data)\n",
    "\n",
    "#confusion_matrix(test_target, predicted_categories)"
   ]
  },
  {
   "cell_type": "code",
   "execution_count": 84,
   "metadata": {},
   "outputs": [
    {
     "output_type": "execute_result",
     "data": {
      "text/plain": [
       "0.6344873501997337"
      ]
     },
     "metadata": {},
     "execution_count": 84
    }
   ],
   "source": [
    "predicted = sum([test_target[i] == predicted_categories[i] for i in range(len(test_target))])\n",
    "\n",
    "all = len(test_target)\n",
    "\n",
    "predicted/all"
   ]
  }
 ]
}